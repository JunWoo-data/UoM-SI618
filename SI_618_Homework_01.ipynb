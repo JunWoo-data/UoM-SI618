{
 "cells": [
  {
   "cell_type": "markdown",
   "metadata": {
    "colab_type": "text",
    "id": "UGqk3SzXsMR3"
   },
   "source": [
    "# SI 618 - Homework #1: Data Manipulation\n",
    "\n",
    "Version 2022.01.17.01.CT"
   ]
  },
  {
   "cell_type": "markdown",
   "metadata": {
    "colab_type": "text",
    "id": "Crxe7LeXJ9yn",
    "tags": []
   },
   "source": [
    "## Background"
   ]
  },
  {
   "cell_type": "markdown",
   "metadata": {
    "colab_type": "text",
    "id": "1IaTA3GNJ9yo"
   },
   "source": [
    "This homework assignment focuses on the analysis of biometric data and exercise performance."
   ]
  },
  {
   "cell_type": "markdown",
   "metadata": {
    "colab_type": "text",
    "id": "jae-nANHJ9yp"
   },
   "source": [
    "Your main task in this assignment is to explore the data *using the data\n",
    "manipulation methods we covered in class* as well as those in the assigned readings.  You may need to consult pandas documentation, Stack Overflow, or other online resources.  \n"
   ]
  },
  {
   "cell_type": "markdown",
   "metadata": {
    "colab_type": "text",
    "id": "pbqbtPreaCjs"
   },
   "source": [
    "A total of 100 points is available in this homework assignment, consisting of:\n",
    "- 80 points for completing the specific homework questions. More comprehensive \n",
    "answers will tend to gain more points.\n",
    "- 10 points for the overall quality of spelling, grammar, punctuation, and style of written responses  (see [Strunk & White](https://drive.google.com/file/d/1L0P7xJwjUGBvyb49mL3dw1Bt7hzRTiTl/view) for detailed specifications).\n",
    "- 10 points for creating code that conforms to [PEP 8](https://www.python.org/dev/peps/pep-0008/) guidelines.  You should review those guidelines before proceding with the assignment.\n"
   ]
  },
  {
   "cell_type": "markdown",
   "metadata": {
    "colab_type": "text",
    "id": "Pr9WBUQyZY4V",
    "tags": []
   },
   "source": [
    "## Download the data from: \n",
    "https://www.kaggle.com/kukuroo3/body-performance-data\n"
   ]
  },
  {
   "cell_type": "code",
   "execution_count": 1,
   "metadata": {},
   "outputs": [],
   "source": [
    "MY_UNIQNAME = 'yjwoo' # please fill in your uniqname"
   ]
  },
  {
   "cell_type": "markdown",
   "metadata": {
    "colab_type": "text",
    "id": "8EV1PilWtl0Z",
    "tags": []
   },
   "source": [
    "## Answer the following questions.\n",
    "Points for each question are shown below.\n",
    "\n",
    "For each question, you should\n",
    "1. Write code using Python and pandas that can help you answer the following questions, and\n",
    "2. Explain your answers in plain English. You should use complete sentences that would be understood by an educated professional who is not necessarily a data scientist (like a product manager).  When we ask for an explanation of your answer, we are interested in your interpretation of the analyses that you produce.  With the exception of Question 1a, we are not interested in a description of the steps you took to arrive at your answer."
   ]
  },
  {
   "cell_type": "markdown",
   "metadata": {
    "colab_type": "text",
    "id": "PfjXDtHoabcS",
    "tags": []
   },
   "source": [
    "### <span style=\"color:magenta\"> Q1: 5 pt(total):</span>\n",
    "#### Q1a (2pt): Write out the steps you need to follow in order to describe the dataset, in terms of size, number of rows, and number of columns.\n",
    "\n"
   ]
  },
  {
   "cell_type": "markdown",
   "metadata": {},
   "source": [
    "1. Import necessary libraries\n",
    "1. Read csv files and save it to a pandas dataframe\n",
    "1. Use shape attribute of pandas to describe the dataset, in terms of size, number of rows, and number of columns"
   ]
  },
  {
   "cell_type": "markdown",
   "metadata": {},
   "source": [
    "#### Q1b (3pt): Write and execute the code that will do the steps you identified in Part (a) of this question."
   ]
  },
  {
   "cell_type": "code",
   "execution_count": 2,
   "metadata": {},
   "outputs": [],
   "source": [
    "import numpy as np\n",
    "import pandas as pd\n",
    "import seaborn as sns\n",
    "import matplotlib.pyplot as plt\n",
    "from matplotlib.pyplot import figure"
   ]
  },
  {
   "cell_type": "code",
   "execution_count": 3,
   "metadata": {},
   "outputs": [],
   "source": [
    "df_bodyPerformance = pd.read_csv(\"bodyPerformance.csv\")"
   ]
  },
  {
   "cell_type": "code",
   "execution_count": 4,
   "metadata": {},
   "outputs": [
    {
     "data": {
      "text/plain": [
       "(13393, 12)"
      ]
     },
     "execution_count": 4,
     "metadata": {},
     "output_type": "execute_result"
    }
   ],
   "source": [
    "df_bodyPerformance.shape"
   ]
  },
  {
   "cell_type": "markdown",
   "metadata": {},
   "source": [
    "Our dataset has 13393 rows and 12 columns. "
   ]
  },
  {
   "cell_type": "markdown",
   "metadata": {},
   "source": [
    "### <span style=\"color:magenta\">Q2: 5 pt:</span>\n",
    "Without using pd.DataFrame.describe(), report the median age, height, and weight for people in the data. Round your answer to the nearest whole number.  Be sure to indicate units for each variable in your write-up."
   ]
  },
  {
   "cell_type": "code",
   "execution_count": 5,
   "metadata": {},
   "outputs": [
    {
     "name": "stdout",
     "output_type": "stream",
     "text": [
      "Median of age: 32\n",
      "Median of height: 169 cm\n",
      "Median of weight: 67 kg\n"
     ]
    }
   ],
   "source": [
    "print(\"Median of age:\", round(df_bodyPerformance['age'].median()))\n",
    "print(\"Median of height:\", round(df_bodyPerformance['height_cm'].median()), \"cm\")\n",
    "print(\"Median of weight:\", round(df_bodyPerformance['weight_kg'].median()), \"kg\")"
   ]
  },
  {
   "cell_type": "markdown",
   "metadata": {},
   "source": [
    "- The median age for people in the data is 32.\n",
    "- The median age for people in the data is 169cm.\n",
    "- The median age for people in the data is 67kg."
   ]
  },
  {
   "cell_type": "markdown",
   "metadata": {},
   "source": [
    "### <span style=\"color:magenta\">Q3: 5 pt: </span>\n",
    "Look for any anomalous data points.  For example, are there cases where diastolic blood pressure is higher than systolic blood pressure (which is physiologically impossible)?  Do you notice any other anomalies?"
   ]
  },
  {
   "cell_type": "code",
   "execution_count": 6,
   "metadata": {},
   "outputs": [
    {
     "data": {
      "text/html": [
       "<div>\n",
       "<style scoped>\n",
       "    .dataframe tbody tr th:only-of-type {\n",
       "        vertical-align: middle;\n",
       "    }\n",
       "\n",
       "    .dataframe tbody tr th {\n",
       "        vertical-align: top;\n",
       "    }\n",
       "\n",
       "    .dataframe thead th {\n",
       "        text-align: right;\n",
       "    }\n",
       "</style>\n",
       "<table border=\"1\" class=\"dataframe\">\n",
       "  <thead>\n",
       "    <tr style=\"text-align: right;\">\n",
       "      <th></th>\n",
       "      <th>age</th>\n",
       "      <th>height_cm</th>\n",
       "      <th>weight_kg</th>\n",
       "      <th>body fat_%</th>\n",
       "      <th>diastolic</th>\n",
       "      <th>systolic</th>\n",
       "      <th>gripForce</th>\n",
       "      <th>sit and bend forward_cm</th>\n",
       "      <th>sit-ups counts</th>\n",
       "      <th>broad jump_cm</th>\n",
       "    </tr>\n",
       "  </thead>\n",
       "  <tbody>\n",
       "    <tr>\n",
       "      <th>count</th>\n",
       "      <td>13393.000000</td>\n",
       "      <td>13393.000000</td>\n",
       "      <td>13393.000000</td>\n",
       "      <td>13393.000000</td>\n",
       "      <td>13393.000000</td>\n",
       "      <td>13393.000000</td>\n",
       "      <td>13393.000000</td>\n",
       "      <td>13393.000000</td>\n",
       "      <td>13393.000000</td>\n",
       "      <td>13393.000000</td>\n",
       "    </tr>\n",
       "    <tr>\n",
       "      <th>mean</th>\n",
       "      <td>36.775106</td>\n",
       "      <td>168.559807</td>\n",
       "      <td>67.447316</td>\n",
       "      <td>23.240165</td>\n",
       "      <td>78.796842</td>\n",
       "      <td>130.234817</td>\n",
       "      <td>36.963877</td>\n",
       "      <td>15.209268</td>\n",
       "      <td>39.771224</td>\n",
       "      <td>190.129627</td>\n",
       "    </tr>\n",
       "    <tr>\n",
       "      <th>std</th>\n",
       "      <td>13.625639</td>\n",
       "      <td>8.426583</td>\n",
       "      <td>11.949666</td>\n",
       "      <td>7.256844</td>\n",
       "      <td>10.742033</td>\n",
       "      <td>14.713954</td>\n",
       "      <td>10.624864</td>\n",
       "      <td>8.456677</td>\n",
       "      <td>14.276698</td>\n",
       "      <td>39.868000</td>\n",
       "    </tr>\n",
       "    <tr>\n",
       "      <th>min</th>\n",
       "      <td>21.000000</td>\n",
       "      <td>125.000000</td>\n",
       "      <td>26.300000</td>\n",
       "      <td>3.000000</td>\n",
       "      <td>0.000000</td>\n",
       "      <td>0.000000</td>\n",
       "      <td>0.000000</td>\n",
       "      <td>-25.000000</td>\n",
       "      <td>0.000000</td>\n",
       "      <td>0.000000</td>\n",
       "    </tr>\n",
       "    <tr>\n",
       "      <th>25%</th>\n",
       "      <td>25.000000</td>\n",
       "      <td>162.400000</td>\n",
       "      <td>58.200000</td>\n",
       "      <td>18.000000</td>\n",
       "      <td>71.000000</td>\n",
       "      <td>120.000000</td>\n",
       "      <td>27.500000</td>\n",
       "      <td>10.900000</td>\n",
       "      <td>30.000000</td>\n",
       "      <td>162.000000</td>\n",
       "    </tr>\n",
       "    <tr>\n",
       "      <th>50%</th>\n",
       "      <td>32.000000</td>\n",
       "      <td>169.200000</td>\n",
       "      <td>67.400000</td>\n",
       "      <td>22.800000</td>\n",
       "      <td>79.000000</td>\n",
       "      <td>130.000000</td>\n",
       "      <td>37.900000</td>\n",
       "      <td>16.200000</td>\n",
       "      <td>41.000000</td>\n",
       "      <td>193.000000</td>\n",
       "    </tr>\n",
       "    <tr>\n",
       "      <th>75%</th>\n",
       "      <td>48.000000</td>\n",
       "      <td>174.800000</td>\n",
       "      <td>75.300000</td>\n",
       "      <td>28.000000</td>\n",
       "      <td>86.000000</td>\n",
       "      <td>141.000000</td>\n",
       "      <td>45.200000</td>\n",
       "      <td>20.700000</td>\n",
       "      <td>50.000000</td>\n",
       "      <td>221.000000</td>\n",
       "    </tr>\n",
       "    <tr>\n",
       "      <th>max</th>\n",
       "      <td>64.000000</td>\n",
       "      <td>193.800000</td>\n",
       "      <td>138.100000</td>\n",
       "      <td>78.400000</td>\n",
       "      <td>156.200000</td>\n",
       "      <td>201.000000</td>\n",
       "      <td>70.500000</td>\n",
       "      <td>213.000000</td>\n",
       "      <td>80.000000</td>\n",
       "      <td>303.000000</td>\n",
       "    </tr>\n",
       "  </tbody>\n",
       "</table>\n",
       "</div>"
      ],
      "text/plain": [
       "                age     height_cm     weight_kg    body fat_%     diastolic  \\\n",
       "count  13393.000000  13393.000000  13393.000000  13393.000000  13393.000000   \n",
       "mean      36.775106    168.559807     67.447316     23.240165     78.796842   \n",
       "std       13.625639      8.426583     11.949666      7.256844     10.742033   \n",
       "min       21.000000    125.000000     26.300000      3.000000      0.000000   \n",
       "25%       25.000000    162.400000     58.200000     18.000000     71.000000   \n",
       "50%       32.000000    169.200000     67.400000     22.800000     79.000000   \n",
       "75%       48.000000    174.800000     75.300000     28.000000     86.000000   \n",
       "max       64.000000    193.800000    138.100000     78.400000    156.200000   \n",
       "\n",
       "           systolic     gripForce  sit and bend forward_cm  sit-ups counts  \\\n",
       "count  13393.000000  13393.000000             13393.000000    13393.000000   \n",
       "mean     130.234817     36.963877                15.209268       39.771224   \n",
       "std       14.713954     10.624864                 8.456677       14.276698   \n",
       "min        0.000000      0.000000               -25.000000        0.000000   \n",
       "25%      120.000000     27.500000                10.900000       30.000000   \n",
       "50%      130.000000     37.900000                16.200000       41.000000   \n",
       "75%      141.000000     45.200000                20.700000       50.000000   \n",
       "max      201.000000     70.500000               213.000000       80.000000   \n",
       "\n",
       "       broad jump_cm  \n",
       "count   13393.000000  \n",
       "mean      190.129627  \n",
       "std        39.868000  \n",
       "min         0.000000  \n",
       "25%       162.000000  \n",
       "50%       193.000000  \n",
       "75%       221.000000  \n",
       "max       303.000000  "
      ]
     },
     "execution_count": 6,
     "metadata": {},
     "output_type": "execute_result"
    }
   ],
   "source": [
    "df_bodyPerformance.describe()"
   ]
  },
  {
   "cell_type": "markdown",
   "metadata": {},
   "source": [
    "### diastolic and systolic"
   ]
  },
  {
   "cell_type": "code",
   "execution_count": 7,
   "metadata": {},
   "outputs": [
    {
     "data": {
      "text/html": [
       "<div>\n",
       "<style scoped>\n",
       "    .dataframe tbody tr th:only-of-type {\n",
       "        vertical-align: middle;\n",
       "    }\n",
       "\n",
       "    .dataframe tbody tr th {\n",
       "        vertical-align: top;\n",
       "    }\n",
       "\n",
       "    .dataframe thead th {\n",
       "        text-align: right;\n",
       "    }\n",
       "</style>\n",
       "<table border=\"1\" class=\"dataframe\">\n",
       "  <thead>\n",
       "    <tr style=\"text-align: right;\">\n",
       "      <th></th>\n",
       "      <th>age</th>\n",
       "      <th>gender</th>\n",
       "      <th>height_cm</th>\n",
       "      <th>weight_kg</th>\n",
       "      <th>body fat_%</th>\n",
       "      <th>diastolic</th>\n",
       "      <th>systolic</th>\n",
       "      <th>gripForce</th>\n",
       "      <th>sit and bend forward_cm</th>\n",
       "      <th>sit-ups counts</th>\n",
       "      <th>broad jump_cm</th>\n",
       "      <th>class</th>\n",
       "    </tr>\n",
       "  </thead>\n",
       "  <tbody>\n",
       "    <tr>\n",
       "      <th>7495</th>\n",
       "      <td>30.0</td>\n",
       "      <td>F</td>\n",
       "      <td>156.2</td>\n",
       "      <td>52.80</td>\n",
       "      <td>28.2</td>\n",
       "      <td>156.2</td>\n",
       "      <td>104.0</td>\n",
       "      <td>21.7</td>\n",
       "      <td>27.2</td>\n",
       "      <td>43.0</td>\n",
       "      <td>162.0</td>\n",
       "      <td>C</td>\n",
       "    </tr>\n",
       "    <tr>\n",
       "      <th>7597</th>\n",
       "      <td>30.0</td>\n",
       "      <td>M</td>\n",
       "      <td>166.6</td>\n",
       "      <td>66.08</td>\n",
       "      <td>14.4</td>\n",
       "      <td>67.0</td>\n",
       "      <td>14.0</td>\n",
       "      <td>53.8</td>\n",
       "      <td>17.2</td>\n",
       "      <td>57.0</td>\n",
       "      <td>221.0</td>\n",
       "      <td>A</td>\n",
       "    </tr>\n",
       "    <tr>\n",
       "      <th>8217</th>\n",
       "      <td>31.0</td>\n",
       "      <td>M</td>\n",
       "      <td>176.7</td>\n",
       "      <td>80.32</td>\n",
       "      <td>20.8</td>\n",
       "      <td>46.2</td>\n",
       "      <td>43.9</td>\n",
       "      <td>43.9</td>\n",
       "      <td>17.2</td>\n",
       "      <td>57.0</td>\n",
       "      <td>221.0</td>\n",
       "      <td>B</td>\n",
       "    </tr>\n",
       "    <tr>\n",
       "      <th>12949</th>\n",
       "      <td>24.0</td>\n",
       "      <td>M</td>\n",
       "      <td>171.0</td>\n",
       "      <td>78.70</td>\n",
       "      <td>20.0</td>\n",
       "      <td>99.0</td>\n",
       "      <td>95.0</td>\n",
       "      <td>46.5</td>\n",
       "      <td>12.8</td>\n",
       "      <td>50.0</td>\n",
       "      <td>197.0</td>\n",
       "      <td>D</td>\n",
       "    </tr>\n",
       "  </tbody>\n",
       "</table>\n",
       "</div>"
      ],
      "text/plain": [
       "        age gender  height_cm  weight_kg  body fat_%  diastolic  systolic  \\\n",
       "7495   30.0      F      156.2      52.80        28.2      156.2     104.0   \n",
       "7597   30.0      M      166.6      66.08        14.4       67.0      14.0   \n",
       "8217   31.0      M      176.7      80.32        20.8       46.2      43.9   \n",
       "12949  24.0      M      171.0      78.70        20.0       99.0      95.0   \n",
       "\n",
       "       gripForce  sit and bend forward_cm  sit-ups counts  broad jump_cm class  \n",
       "7495        21.7                     27.2            43.0          162.0     C  \n",
       "7597        53.8                     17.2            57.0          221.0     A  \n",
       "8217        43.9                     17.2            57.0          221.0     B  \n",
       "12949       46.5                     12.8            50.0          197.0     D  "
      ]
     },
     "execution_count": 7,
     "metadata": {},
     "output_type": "execute_result"
    }
   ],
   "source": [
    "df_bodyPerformance[df_bodyPerformance[\"diastolic\"] > df_bodyPerformance[\"systolic\"]]"
   ]
  },
  {
   "cell_type": "markdown",
   "metadata": {},
   "source": [
    "When our heart beats, it squeezes and pushes blood through our arteries to the rest of our body. This force creates pressure on those blood vessels, and that's our systolic blood pressure. Also, the diastolic is the pressure in the arteries when the heart rests between beats. Usually systolic is higher than diastolic and it is very rare case that diastolic is higher than systolic. Most of the participants had higher systolic than diastolic, and only 4 had higher diastolic."
   ]
  },
  {
   "cell_type": "code",
   "execution_count": 8,
   "metadata": {},
   "outputs": [
    {
     "data": {
      "text/html": [
       "<div>\n",
       "<style scoped>\n",
       "    .dataframe tbody tr th:only-of-type {\n",
       "        vertical-align: middle;\n",
       "    }\n",
       "\n",
       "    .dataframe tbody tr th {\n",
       "        vertical-align: top;\n",
       "    }\n",
       "\n",
       "    .dataframe thead th {\n",
       "        text-align: right;\n",
       "    }\n",
       "</style>\n",
       "<table border=\"1\" class=\"dataframe\">\n",
       "  <thead>\n",
       "    <tr style=\"text-align: right;\">\n",
       "      <th></th>\n",
       "      <th>age</th>\n",
       "      <th>gender</th>\n",
       "      <th>height_cm</th>\n",
       "      <th>weight_kg</th>\n",
       "      <th>body fat_%</th>\n",
       "      <th>diastolic</th>\n",
       "      <th>systolic</th>\n",
       "      <th>gripForce</th>\n",
       "      <th>sit and bend forward_cm</th>\n",
       "      <th>sit-ups counts</th>\n",
       "      <th>broad jump_cm</th>\n",
       "      <th>class</th>\n",
       "    </tr>\n",
       "  </thead>\n",
       "  <tbody>\n",
       "    <tr>\n",
       "      <th>336</th>\n",
       "      <td>35.0</td>\n",
       "      <td>M</td>\n",
       "      <td>173.1</td>\n",
       "      <td>77.60</td>\n",
       "      <td>22.8</td>\n",
       "      <td>8.0</td>\n",
       "      <td>122.0</td>\n",
       "      <td>46.4</td>\n",
       "      <td>16.7</td>\n",
       "      <td>47.0</td>\n",
       "      <td>216.0</td>\n",
       "      <td>B</td>\n",
       "    </tr>\n",
       "    <tr>\n",
       "      <th>344</th>\n",
       "      <td>22.0</td>\n",
       "      <td>F</td>\n",
       "      <td>158.5</td>\n",
       "      <td>49.30</td>\n",
       "      <td>27.0</td>\n",
       "      <td>37.0</td>\n",
       "      <td>77.0</td>\n",
       "      <td>27.1</td>\n",
       "      <td>21.0</td>\n",
       "      <td>59.0</td>\n",
       "      <td>178.0</td>\n",
       "      <td>B</td>\n",
       "    </tr>\n",
       "    <tr>\n",
       "      <th>3524</th>\n",
       "      <td>44.0</td>\n",
       "      <td>M</td>\n",
       "      <td>177.0</td>\n",
       "      <td>78.28</td>\n",
       "      <td>22.1</td>\n",
       "      <td>6.0</td>\n",
       "      <td>145.0</td>\n",
       "      <td>47.4</td>\n",
       "      <td>10.5</td>\n",
       "      <td>42.0</td>\n",
       "      <td>215.0</td>\n",
       "      <td>B</td>\n",
       "    </tr>\n",
       "    <tr>\n",
       "      <th>6786</th>\n",
       "      <td>22.0</td>\n",
       "      <td>F</td>\n",
       "      <td>164.1</td>\n",
       "      <td>60.80</td>\n",
       "      <td>32.4</td>\n",
       "      <td>30.0</td>\n",
       "      <td>122.0</td>\n",
       "      <td>29.7</td>\n",
       "      <td>-4.6</td>\n",
       "      <td>31.0</td>\n",
       "      <td>159.0</td>\n",
       "      <td>D</td>\n",
       "    </tr>\n",
       "    <tr>\n",
       "      <th>10624</th>\n",
       "      <td>26.0</td>\n",
       "      <td>F</td>\n",
       "      <td>160.0</td>\n",
       "      <td>63.56</td>\n",
       "      <td>32.0</td>\n",
       "      <td>0.0</td>\n",
       "      <td>0.0</td>\n",
       "      <td>23.7</td>\n",
       "      <td>17.1</td>\n",
       "      <td>23.0</td>\n",
       "      <td>128.0</td>\n",
       "      <td>D</td>\n",
       "    </tr>\n",
       "  </tbody>\n",
       "</table>\n",
       "</div>"
      ],
      "text/plain": [
       "        age gender  height_cm  weight_kg  body fat_%  diastolic  systolic  \\\n",
       "336    35.0      M      173.1      77.60        22.8        8.0     122.0   \n",
       "344    22.0      F      158.5      49.30        27.0       37.0      77.0   \n",
       "3524   44.0      M      177.0      78.28        22.1        6.0     145.0   \n",
       "6786   22.0      F      164.1      60.80        32.4       30.0     122.0   \n",
       "10624  26.0      F      160.0      63.56        32.0        0.0       0.0   \n",
       "\n",
       "       gripForce  sit and bend forward_cm  sit-ups counts  broad jump_cm class  \n",
       "336         46.4                     16.7            47.0          216.0     B  \n",
       "344         27.1                     21.0            59.0          178.0     B  \n",
       "3524        47.4                     10.5            42.0          215.0     B  \n",
       "6786        29.7                     -4.6            31.0          159.0     D  \n",
       "10624       23.7                     17.1            23.0          128.0     D  "
      ]
     },
     "execution_count": 8,
     "metadata": {},
     "output_type": "execute_result"
    }
   ],
   "source": [
    "df_bodyPerformance[df_bodyPerformance[\"diastolic\"] < 40]"
   ]
  },
  {
   "cell_type": "code",
   "execution_count": 9,
   "metadata": {},
   "outputs": [
    {
     "data": {
      "text/html": [
       "<div>\n",
       "<style scoped>\n",
       "    .dataframe tbody tr th:only-of-type {\n",
       "        vertical-align: middle;\n",
       "    }\n",
       "\n",
       "    .dataframe tbody tr th {\n",
       "        vertical-align: top;\n",
       "    }\n",
       "\n",
       "    .dataframe thead th {\n",
       "        text-align: right;\n",
       "    }\n",
       "</style>\n",
       "<table border=\"1\" class=\"dataframe\">\n",
       "  <thead>\n",
       "    <tr style=\"text-align: right;\">\n",
       "      <th></th>\n",
       "      <th>age</th>\n",
       "      <th>gender</th>\n",
       "      <th>height_cm</th>\n",
       "      <th>weight_kg</th>\n",
       "      <th>body fat_%</th>\n",
       "      <th>diastolic</th>\n",
       "      <th>systolic</th>\n",
       "      <th>gripForce</th>\n",
       "      <th>sit and bend forward_cm</th>\n",
       "      <th>sit-ups counts</th>\n",
       "      <th>broad jump_cm</th>\n",
       "      <th>class</th>\n",
       "    </tr>\n",
       "  </thead>\n",
       "  <tbody>\n",
       "    <tr>\n",
       "      <th>344</th>\n",
       "      <td>22.0</td>\n",
       "      <td>F</td>\n",
       "      <td>158.5</td>\n",
       "      <td>49.30</td>\n",
       "      <td>27.0</td>\n",
       "      <td>37.0</td>\n",
       "      <td>77.0</td>\n",
       "      <td>27.1</td>\n",
       "      <td>21.0</td>\n",
       "      <td>59.0</td>\n",
       "      <td>178.0</td>\n",
       "      <td>B</td>\n",
       "    </tr>\n",
       "    <tr>\n",
       "      <th>7597</th>\n",
       "      <td>30.0</td>\n",
       "      <td>M</td>\n",
       "      <td>166.6</td>\n",
       "      <td>66.08</td>\n",
       "      <td>14.4</td>\n",
       "      <td>67.0</td>\n",
       "      <td>14.0</td>\n",
       "      <td>53.8</td>\n",
       "      <td>17.2</td>\n",
       "      <td>57.0</td>\n",
       "      <td>221.0</td>\n",
       "      <td>A</td>\n",
       "    </tr>\n",
       "    <tr>\n",
       "      <th>8217</th>\n",
       "      <td>31.0</td>\n",
       "      <td>M</td>\n",
       "      <td>176.7</td>\n",
       "      <td>80.32</td>\n",
       "      <td>20.8</td>\n",
       "      <td>46.2</td>\n",
       "      <td>43.9</td>\n",
       "      <td>43.9</td>\n",
       "      <td>17.2</td>\n",
       "      <td>57.0</td>\n",
       "      <td>221.0</td>\n",
       "      <td>B</td>\n",
       "    </tr>\n",
       "    <tr>\n",
       "      <th>10624</th>\n",
       "      <td>26.0</td>\n",
       "      <td>F</td>\n",
       "      <td>160.0</td>\n",
       "      <td>63.56</td>\n",
       "      <td>32.0</td>\n",
       "      <td>0.0</td>\n",
       "      <td>0.0</td>\n",
       "      <td>23.7</td>\n",
       "      <td>17.1</td>\n",
       "      <td>23.0</td>\n",
       "      <td>128.0</td>\n",
       "      <td>D</td>\n",
       "    </tr>\n",
       "  </tbody>\n",
       "</table>\n",
       "</div>"
      ],
      "text/plain": [
       "        age gender  height_cm  weight_kg  body fat_%  diastolic  systolic  \\\n",
       "344    22.0      F      158.5      49.30        27.0       37.0      77.0   \n",
       "7597   30.0      M      166.6      66.08        14.4       67.0      14.0   \n",
       "8217   31.0      M      176.7      80.32        20.8       46.2      43.9   \n",
       "10624  26.0      F      160.0      63.56        32.0        0.0       0.0   \n",
       "\n",
       "       gripForce  sit and bend forward_cm  sit-ups counts  broad jump_cm class  \n",
       "344         27.1                     21.0            59.0          178.0     B  \n",
       "7597        53.8                     17.2            57.0          221.0     A  \n",
       "8217        43.9                     17.2            57.0          221.0     B  \n",
       "10624       23.7                     17.1            23.0          128.0     D  "
      ]
     },
     "execution_count": 9,
     "metadata": {},
     "output_type": "execute_result"
    }
   ],
   "source": [
    "df_bodyPerformance[df_bodyPerformance[\"systolic\"] < 80]"
   ]
  },
  {
   "cell_type": "markdown",
   "metadata": {},
   "source": [
    "Also there are only 5 people who have lower diastolic blood pressure than 40, and 4 people who have lower systolic blood pressure than 80."
   ]
  },
  {
   "cell_type": "markdown",
   "metadata": {
    "tags": []
   },
   "source": [
    "### gripForce"
   ]
  },
  {
   "cell_type": "code",
   "execution_count": 10,
   "metadata": {},
   "outputs": [
    {
     "data": {
      "text/html": [
       "<div>\n",
       "<style scoped>\n",
       "    .dataframe tbody tr th:only-of-type {\n",
       "        vertical-align: middle;\n",
       "    }\n",
       "\n",
       "    .dataframe tbody tr th {\n",
       "        vertical-align: top;\n",
       "    }\n",
       "\n",
       "    .dataframe thead th {\n",
       "        text-align: right;\n",
       "    }\n",
       "</style>\n",
       "<table border=\"1\" class=\"dataframe\">\n",
       "  <thead>\n",
       "    <tr style=\"text-align: right;\">\n",
       "      <th></th>\n",
       "      <th>age</th>\n",
       "      <th>gender</th>\n",
       "      <th>height_cm</th>\n",
       "      <th>weight_kg</th>\n",
       "      <th>body fat_%</th>\n",
       "      <th>diastolic</th>\n",
       "      <th>systolic</th>\n",
       "      <th>gripForce</th>\n",
       "      <th>sit and bend forward_cm</th>\n",
       "      <th>sit-ups counts</th>\n",
       "      <th>broad jump_cm</th>\n",
       "      <th>class</th>\n",
       "    </tr>\n",
       "  </thead>\n",
       "  <tbody>\n",
       "    <tr>\n",
       "      <th>8562</th>\n",
       "      <td>22.0</td>\n",
       "      <td>F</td>\n",
       "      <td>160.4</td>\n",
       "      <td>52.3</td>\n",
       "      <td>34.2</td>\n",
       "      <td>79.0</td>\n",
       "      <td>111.0</td>\n",
       "      <td>0.0</td>\n",
       "      <td>15.2</td>\n",
       "      <td>45.0</td>\n",
       "      <td>165.0</td>\n",
       "      <td>D</td>\n",
       "    </tr>\n",
       "    <tr>\n",
       "      <th>9486</th>\n",
       "      <td>45.0</td>\n",
       "      <td>M</td>\n",
       "      <td>172.4</td>\n",
       "      <td>56.7</td>\n",
       "      <td>9.3</td>\n",
       "      <td>72.0</td>\n",
       "      <td>127.0</td>\n",
       "      <td>0.0</td>\n",
       "      <td>9.4</td>\n",
       "      <td>43.0</td>\n",
       "      <td>213.0</td>\n",
       "      <td>B</td>\n",
       "    </tr>\n",
       "    <tr>\n",
       "      <th>9768</th>\n",
       "      <td>27.0</td>\n",
       "      <td>M</td>\n",
       "      <td>172.4</td>\n",
       "      <td>83.0</td>\n",
       "      <td>20.2</td>\n",
       "      <td>99.0</td>\n",
       "      <td>153.0</td>\n",
       "      <td>0.0</td>\n",
       "      <td>17.2</td>\n",
       "      <td>56.0</td>\n",
       "      <td>261.0</td>\n",
       "      <td>C</td>\n",
       "    </tr>\n",
       "  </tbody>\n",
       "</table>\n",
       "</div>"
      ],
      "text/plain": [
       "       age gender  height_cm  weight_kg  body fat_%  diastolic  systolic  \\\n",
       "8562  22.0      F      160.4       52.3        34.2       79.0     111.0   \n",
       "9486  45.0      M      172.4       56.7         9.3       72.0     127.0   \n",
       "9768  27.0      M      172.4       83.0        20.2       99.0     153.0   \n",
       "\n",
       "      gripForce  sit and bend forward_cm  sit-ups counts  broad jump_cm class  \n",
       "8562        0.0                     15.2            45.0          165.0     D  \n",
       "9486        0.0                      9.4            43.0          213.0     B  \n",
       "9768        0.0                     17.2            56.0          261.0     C  "
      ]
     },
     "execution_count": 10,
     "metadata": {},
     "output_type": "execute_result"
    }
   ],
   "source": [
    "df_bodyPerformance[df_bodyPerformance.gripForce == 0]"
   ]
  },
  {
   "cell_type": "markdown",
   "metadata": {},
   "source": [
    "There are only 3 people who have 0 gripforce."
   ]
  },
  {
   "cell_type": "markdown",
   "metadata": {},
   "source": [
    "### sit and bend forward_cm and height_cm"
   ]
  },
  {
   "cell_type": "code",
   "execution_count": 11,
   "metadata": {},
   "outputs": [
    {
     "data": {
      "text/html": [
       "<div>\n",
       "<style scoped>\n",
       "    .dataframe tbody tr th:only-of-type {\n",
       "        vertical-align: middle;\n",
       "    }\n",
       "\n",
       "    .dataframe tbody tr th {\n",
       "        vertical-align: top;\n",
       "    }\n",
       "\n",
       "    .dataframe thead th {\n",
       "        text-align: right;\n",
       "    }\n",
       "</style>\n",
       "<table border=\"1\" class=\"dataframe\">\n",
       "  <thead>\n",
       "    <tr style=\"text-align: right;\">\n",
       "      <th></th>\n",
       "      <th>age</th>\n",
       "      <th>gender</th>\n",
       "      <th>height_cm</th>\n",
       "      <th>weight_kg</th>\n",
       "      <th>body fat_%</th>\n",
       "      <th>diastolic</th>\n",
       "      <th>systolic</th>\n",
       "      <th>gripForce</th>\n",
       "      <th>sit and bend forward_cm</th>\n",
       "      <th>sit-ups counts</th>\n",
       "      <th>broad jump_cm</th>\n",
       "      <th>class</th>\n",
       "    </tr>\n",
       "  </thead>\n",
       "  <tbody>\n",
       "    <tr>\n",
       "      <th>2657</th>\n",
       "      <td>33.0</td>\n",
       "      <td>M</td>\n",
       "      <td>165.6</td>\n",
       "      <td>60.4</td>\n",
       "      <td>17.8</td>\n",
       "      <td>81.0</td>\n",
       "      <td>127.0</td>\n",
       "      <td>38.6</td>\n",
       "      <td>213.0</td>\n",
       "      <td>53.0</td>\n",
       "      <td>244.0</td>\n",
       "      <td>B</td>\n",
       "    </tr>\n",
       "    <tr>\n",
       "      <th>3355</th>\n",
       "      <td>45.0</td>\n",
       "      <td>M</td>\n",
       "      <td>164.4</td>\n",
       "      <td>64.4</td>\n",
       "      <td>24.3</td>\n",
       "      <td>96.0</td>\n",
       "      <td>142.0</td>\n",
       "      <td>38.5</td>\n",
       "      <td>185.0</td>\n",
       "      <td>44.0</td>\n",
       "      <td>223.0</td>\n",
       "      <td>A</td>\n",
       "    </tr>\n",
       "    <tr>\n",
       "      <th>4203</th>\n",
       "      <td>46.0</td>\n",
       "      <td>M</td>\n",
       "      <td>164.4</td>\n",
       "      <td>63.6</td>\n",
       "      <td>23.4</td>\n",
       "      <td>70.0</td>\n",
       "      <td>115.0</td>\n",
       "      <td>36.0</td>\n",
       "      <td>42.0</td>\n",
       "      <td>42.0</td>\n",
       "      <td>210.0</td>\n",
       "      <td>A</td>\n",
       "    </tr>\n",
       "  </tbody>\n",
       "</table>\n",
       "</div>"
      ],
      "text/plain": [
       "       age gender  height_cm  weight_kg  body fat_%  diastolic  systolic  \\\n",
       "2657  33.0      M      165.6       60.4        17.8       81.0     127.0   \n",
       "3355  45.0      M      164.4       64.4        24.3       96.0     142.0   \n",
       "4203  46.0      M      164.4       63.6        23.4       70.0     115.0   \n",
       "\n",
       "      gripForce  sit and bend forward_cm  sit-ups counts  broad jump_cm class  \n",
       "2657       38.6                    213.0            53.0          244.0     B  \n",
       "3355       38.5                    185.0            44.0          223.0     A  \n",
       "4203       36.0                     42.0            42.0          210.0     A  "
      ]
     },
     "execution_count": 11,
     "metadata": {},
     "output_type": "execute_result"
    }
   ],
   "source": [
    "df_bodyPerformance[df_bodyPerformance[\"sit and bend forward_cm\"] > df_bodyPerformance[\"height_cm\"] / 4]"
   ]
  },
  {
   "cell_type": "markdown",
   "metadata": {},
   "source": [
    "There are only 3 people who have sit and bend forward record(cm) bigger than a quarter of their height."
   ]
  },
  {
   "cell_type": "markdown",
   "metadata": {},
   "source": [
    "### broad jump_cm"
   ]
  },
  {
   "cell_type": "code",
   "execution_count": 13,
   "metadata": {},
   "outputs": [
    {
     "data": {
      "text/html": [
       "<div>\n",
       "<style scoped>\n",
       "    .dataframe tbody tr th:only-of-type {\n",
       "        vertical-align: middle;\n",
       "    }\n",
       "\n",
       "    .dataframe tbody tr th {\n",
       "        vertical-align: top;\n",
       "    }\n",
       "\n",
       "    .dataframe thead th {\n",
       "        text-align: right;\n",
       "    }\n",
       "</style>\n",
       "<table border=\"1\" class=\"dataframe\">\n",
       "  <thead>\n",
       "    <tr style=\"text-align: right;\">\n",
       "      <th></th>\n",
       "      <th>age</th>\n",
       "      <th>gender</th>\n",
       "      <th>height_cm</th>\n",
       "      <th>weight_kg</th>\n",
       "      <th>body fat_%</th>\n",
       "      <th>diastolic</th>\n",
       "      <th>systolic</th>\n",
       "      <th>gripForce</th>\n",
       "      <th>sit and bend forward_cm</th>\n",
       "      <th>sit-ups counts</th>\n",
       "      <th>broad jump_cm</th>\n",
       "      <th>class</th>\n",
       "    </tr>\n",
       "  </thead>\n",
       "  <tbody>\n",
       "    <tr>\n",
       "      <th>484</th>\n",
       "      <td>22.0</td>\n",
       "      <td>F</td>\n",
       "      <td>167.4</td>\n",
       "      <td>66.2</td>\n",
       "      <td>34.0</td>\n",
       "      <td>62.0</td>\n",
       "      <td>110.0</td>\n",
       "      <td>28.5</td>\n",
       "      <td>11.2</td>\n",
       "      <td>38.0</td>\n",
       "      <td>0.0</td>\n",
       "      <td>C</td>\n",
       "    </tr>\n",
       "    <tr>\n",
       "      <th>712</th>\n",
       "      <td>58.0</td>\n",
       "      <td>M</td>\n",
       "      <td>168.7</td>\n",
       "      <td>76.1</td>\n",
       "      <td>27.5</td>\n",
       "      <td>84.0</td>\n",
       "      <td>139.0</td>\n",
       "      <td>34.5</td>\n",
       "      <td>2.0</td>\n",
       "      <td>0.0</td>\n",
       "      <td>0.0</td>\n",
       "      <td>D</td>\n",
       "    </tr>\n",
       "    <tr>\n",
       "      <th>1919</th>\n",
       "      <td>59.0</td>\n",
       "      <td>F</td>\n",
       "      <td>162.9</td>\n",
       "      <td>61.0</td>\n",
       "      <td>32.6</td>\n",
       "      <td>82.0</td>\n",
       "      <td>123.0</td>\n",
       "      <td>29.7</td>\n",
       "      <td>19.5</td>\n",
       "      <td>0.0</td>\n",
       "      <td>0.0</td>\n",
       "      <td>D</td>\n",
       "    </tr>\n",
       "    <tr>\n",
       "      <th>4756</th>\n",
       "      <td>28.0</td>\n",
       "      <td>M</td>\n",
       "      <td>176.6</td>\n",
       "      <td>82.2</td>\n",
       "      <td>20.7</td>\n",
       "      <td>83.0</td>\n",
       "      <td>126.0</td>\n",
       "      <td>40.9</td>\n",
       "      <td>17.6</td>\n",
       "      <td>46.0</td>\n",
       "      <td>0.0</td>\n",
       "      <td>C</td>\n",
       "    </tr>\n",
       "    <tr>\n",
       "      <th>4900</th>\n",
       "      <td>60.0</td>\n",
       "      <td>F</td>\n",
       "      <td>162.2</td>\n",
       "      <td>67.3</td>\n",
       "      <td>41.8</td>\n",
       "      <td>47.0</td>\n",
       "      <td>131.0</td>\n",
       "      <td>22.1</td>\n",
       "      <td>19.5</td>\n",
       "      <td>0.0</td>\n",
       "      <td>0.0</td>\n",
       "      <td>D</td>\n",
       "    </tr>\n",
       "    <tr>\n",
       "      <th>7366</th>\n",
       "      <td>50.0</td>\n",
       "      <td>M</td>\n",
       "      <td>178.2</td>\n",
       "      <td>88.4</td>\n",
       "      <td>23.4</td>\n",
       "      <td>85.0</td>\n",
       "      <td>146.0</td>\n",
       "      <td>54.9</td>\n",
       "      <td>19.3</td>\n",
       "      <td>51.0</td>\n",
       "      <td>0.0</td>\n",
       "      <td>C</td>\n",
       "    </tr>\n",
       "    <tr>\n",
       "      <th>7721</th>\n",
       "      <td>56.0</td>\n",
       "      <td>F</td>\n",
       "      <td>156.0</td>\n",
       "      <td>51.1</td>\n",
       "      <td>28.4</td>\n",
       "      <td>73.0</td>\n",
       "      <td>113.0</td>\n",
       "      <td>20.7</td>\n",
       "      <td>23.0</td>\n",
       "      <td>23.0</td>\n",
       "      <td>0.0</td>\n",
       "      <td>C</td>\n",
       "    </tr>\n",
       "    <tr>\n",
       "      <th>7944</th>\n",
       "      <td>45.0</td>\n",
       "      <td>F</td>\n",
       "      <td>153.4</td>\n",
       "      <td>33.7</td>\n",
       "      <td>16.1</td>\n",
       "      <td>81.0</td>\n",
       "      <td>124.0</td>\n",
       "      <td>6.7</td>\n",
       "      <td>11.5</td>\n",
       "      <td>8.0</td>\n",
       "      <td>0.0</td>\n",
       "      <td>D</td>\n",
       "    </tr>\n",
       "    <tr>\n",
       "      <th>7954</th>\n",
       "      <td>61.0</td>\n",
       "      <td>F</td>\n",
       "      <td>153.0</td>\n",
       "      <td>64.6</td>\n",
       "      <td>31.4</td>\n",
       "      <td>77.0</td>\n",
       "      <td>152.0</td>\n",
       "      <td>14.0</td>\n",
       "      <td>20.6</td>\n",
       "      <td>0.0</td>\n",
       "      <td>0.0</td>\n",
       "      <td>D</td>\n",
       "    </tr>\n",
       "    <tr>\n",
       "      <th>8599</th>\n",
       "      <td>60.0</td>\n",
       "      <td>F</td>\n",
       "      <td>160.0</td>\n",
       "      <td>76.9</td>\n",
       "      <td>50.3</td>\n",
       "      <td>82.0</td>\n",
       "      <td>141.0</td>\n",
       "      <td>20.1</td>\n",
       "      <td>-8.1</td>\n",
       "      <td>0.0</td>\n",
       "      <td>0.0</td>\n",
       "      <td>D</td>\n",
       "    </tr>\n",
       "  </tbody>\n",
       "</table>\n",
       "</div>"
      ],
      "text/plain": [
       "       age gender  height_cm  weight_kg  body fat_%  diastolic  systolic  \\\n",
       "484   22.0      F      167.4       66.2        34.0       62.0     110.0   \n",
       "712   58.0      M      168.7       76.1        27.5       84.0     139.0   \n",
       "1919  59.0      F      162.9       61.0        32.6       82.0     123.0   \n",
       "4756  28.0      M      176.6       82.2        20.7       83.0     126.0   \n",
       "4900  60.0      F      162.2       67.3        41.8       47.0     131.0   \n",
       "7366  50.0      M      178.2       88.4        23.4       85.0     146.0   \n",
       "7721  56.0      F      156.0       51.1        28.4       73.0     113.0   \n",
       "7944  45.0      F      153.4       33.7        16.1       81.0     124.0   \n",
       "7954  61.0      F      153.0       64.6        31.4       77.0     152.0   \n",
       "8599  60.0      F      160.0       76.9        50.3       82.0     141.0   \n",
       "\n",
       "      gripForce  sit and bend forward_cm  sit-ups counts  broad jump_cm class  \n",
       "484        28.5                     11.2            38.0            0.0     C  \n",
       "712        34.5                      2.0             0.0            0.0     D  \n",
       "1919       29.7                     19.5             0.0            0.0     D  \n",
       "4756       40.9                     17.6            46.0            0.0     C  \n",
       "4900       22.1                     19.5             0.0            0.0     D  \n",
       "7366       54.9                     19.3            51.0            0.0     C  \n",
       "7721       20.7                     23.0            23.0            0.0     C  \n",
       "7944        6.7                     11.5             8.0            0.0     D  \n",
       "7954       14.0                     20.6             0.0            0.0     D  \n",
       "8599       20.1                     -8.1             0.0            0.0     D  "
      ]
     },
     "execution_count": 13,
     "metadata": {},
     "output_type": "execute_result"
    }
   ],
   "source": [
    "df_bodyPerformance[df_bodyPerformance[\"broad jump_cm\"] == 0]"
   ]
  },
  {
   "cell_type": "markdown",
   "metadata": {},
   "source": [
    "There are only 10 people with a broad jump record of 0cm."
   ]
  },
  {
   "cell_type": "markdown",
   "metadata": {},
   "source": [
    "### <span style=\"color:magenta\">Q4: 10 pt:</span>\n",
    "Generate histogram plots for the age, weight, and height for gender F participants. Describe the plots and point out any interesting aspects."
   ]
  },
  {
   "cell_type": "code",
   "execution_count": 14,
   "metadata": {},
   "outputs": [
    {
     "data": {
      "text/plain": [
       "<AxesSubplot:ylabel='Frequency'>"
      ]
     },
     "execution_count": 14,
     "metadata": {},
     "output_type": "execute_result"
    },
    {
     "data": {
      "image/png": "[encoded data removed]",
      "text/plain": [
       "<Figure size 432x288 with 1 Axes>"
      ]
     },
     "metadata": {
      "needs_background": "light"
     },
     "output_type": "display_data"
    }
   ],
   "source": [
    "df_bodyPerformance[df_bodyPerformance[\"gender\"] == 'F'].age.plot.hist(bins = 40)"
   ]
  },
  {
   "cell_type": "code",
   "execution_count": 15,
   "metadata": {},
   "outputs": [
    {
     "data": {
      "text/plain": [
       "count    4926.000000\n",
       "mean       37.850995\n",
       "std        14.417859\n",
       "min        21.000000\n",
       "25%        24.000000\n",
       "50%        34.000000\n",
       "75%        51.000000\n",
       "max        64.000000\n",
       "Name: age, dtype: float64"
      ]
     },
     "execution_count": 15,
     "metadata": {},
     "output_type": "execute_result"
    }
   ],
   "source": [
    "df_bodyPerformance[df_bodyPerformance[\"gender\"] == 'F'].age.describe()"
   ]
  },
  {
   "cell_type": "markdown",
   "metadata": {},
   "source": [
    "Above graph shows the histogram for the age for female participants. Female participants' ages are from the minimum age 21 to the maximum age 64. From total 4926 female participants, 50% of them are below 34 years old and the mean age of the female participants is 37 years. In particular, female participants under the age of 25 accounted for the largest share, accounting for 25% of the female participants. "
   ]
  },
  {
   "cell_type": "code",
   "execution_count": 16,
   "metadata": {},
   "outputs": [
    {
     "data": {
      "text/plain": [
       "<AxesSubplot:ylabel='Frequency'>"
      ]
     },
     "execution_count": 16,
     "metadata": {},
     "output_type": "execute_result"
    },
    {
     "data": {
      "image/png": "[encoded data removed]",
      "text/plain": [
       "<Figure size 432x288 with 1 Axes>"
      ]
     },
     "metadata": {
      "needs_background": "light"
     },
     "output_type": "display_data"
    }
   ],
   "source": [
    "df_bodyPerformance[df_bodyPerformance[\"gender\"] == 'F'].weight_kg.plot.hist(bins = 40)"
   ]
  },
  {
   "cell_type": "code",
   "execution_count": 17,
   "metadata": {},
   "outputs": [
    {
     "data": {
      "text/plain": [
       "count    4926.000000\n",
       "mean       56.905899\n",
       "std         7.639541\n",
       "min        26.300000\n",
       "25%        51.965000\n",
       "50%        55.900000\n",
       "75%        61.000000\n",
       "max       113.300000\n",
       "Name: weight_kg, dtype: float64"
      ]
     },
     "execution_count": 17,
     "metadata": {},
     "output_type": "execute_result"
    }
   ],
   "source": [
    "df_bodyPerformance[df_bodyPerformance[\"gender\"] == 'F'].weight_kg.describe()"
   ]
  },
  {
   "cell_type": "markdown",
   "metadata": {},
   "source": [
    "Above plot shows the histogram for the weights(kg) for female participants. The weights(kg) of female participants roughly follow a normal distribution. The mean weight(kg) of the female participants is about 56kg. About 50% of female participants are distributed between 52kg and 61kg, which is around the mean weight. The minimum weight of the female participants is about 26kg and the maximum weight is about 113kg."
   ]
  },
  {
   "cell_type": "code",
   "execution_count": 18,
   "metadata": {},
   "outputs": [
    {
     "data": {
      "text/plain": [
       "<AxesSubplot:ylabel='Frequency'>"
      ]
     },
     "execution_count": 18,
     "metadata": {},
     "output_type": "execute_result"
    },
    {
     "data": {
      "image/png": "[encoded data removed]",
      "text/plain": [
       "<Figure size 432x288 with 1 Axes>"
      ]
     },
     "metadata": {
      "needs_background": "light"
     },
     "output_type": "display_data"
    }
   ],
   "source": [
    "df_bodyPerformance[df_bodyPerformance[\"gender\"] == 'F'].height_cm.plot.hist(bins = 40)"
   ]
  },
  {
   "cell_type": "code",
   "execution_count": 19,
   "metadata": {},
   "outputs": [
    {
     "data": {
      "text/plain": [
       "count    4926.000000\n",
       "mean      160.485404\n",
       "std         5.648771\n",
       "min       125.000000\n",
       "25%       156.600000\n",
       "50%       160.500000\n",
       "75%       164.300000\n",
       "max       179.000000\n",
       "Name: height_cm, dtype: float64"
      ]
     },
     "execution_count": 19,
     "metadata": {},
     "output_type": "execute_result"
    }
   ],
   "source": [
    "df_bodyPerformance[df_bodyPerformance[\"gender\"] == 'F'].height_cm.describe()"
   ]
  },
  {
   "cell_type": "markdown",
   "metadata": {},
   "source": [
    "Above plot shows the histogram for the height(cm) for female participants. The heights(cm) of female participants also roughly follow a normal distribution. The mean height(cm) of the female participants is about 160cm. About 50% of female participants are distributed between 156cm and 164cm, which is around the mean height. The minimum height of the female participants is about 125cm and the maximum height is about 179cm."
   ]
  },
  {
   "cell_type": "markdown",
   "metadata": {
    "colab_type": "text",
    "id": "0u5VM5ksbCTm"
   },
   "source": [
    "### <span style=\"color:magenta\">Q5: 10 pt:</span>\n",
    "Blood pressure is reported as two numbers: diastolic (the lower number) and systolic (the higher number).  So, for example, if a person has a diastolic measurement of 80 and a systolic measurement of 120, the person's blood pressure would be reported as 120/80.\n",
    "\n",
    "Blood pressure measurements fall into several categories:\n",
    "\n",
    "Normal blood pressure. Your blood pressure is normal if it's below 120/80 mm Hg.\n",
    "\n",
    "Elevated blood pressure. Elevated blood pressure is a systolic pressure ranging from 120 to 129 mm Hg and a diastolic pressure below (not above) 80 mm Hg. Elevated blood pressure tends to get worse over time unless steps are taken to control blood pressure. Elevated blood pressure may also be called prehypertension.\n",
    "\n",
    "Stage 1 hypertension. Stage 1 hypertension is a systolic pressure ranging from 130 to 139 mm Hg or a diastolic pressure ranging from 80 to 89 mm Hg.\n",
    "\n",
    "Stage 2 hypertension. More-severe hypertension, stage 2 hypertension is a systolic pressure of 140 mm Hg or higher or a diastolic pressure of 90 mm Hg or higher.\n",
    "\n",
    "Hypertensive crisis. A blood pressure measurement higher than 180/120 mm Hg is an emergency situation that requires urgent medical care. If you get this result when you take your blood pressure at home, wait five minutes and retest. If your blood pressure is still this high, contact your doctor immediately. If you also have chest pain, vision problems, numbness or weakness, breathing difficulty, or any other signs and symptoms of a stroke or heart attack, call 911 or your local emergency medical number.\n",
    "\n",
    "Report the number of people in each of those categories."
   ]
  },
  {
   "cell_type": "code",
   "execution_count": 20,
   "metadata": {},
   "outputs": [],
   "source": [
    "df_bodyPerformance.loc[(df_bodyPerformance['diastolic'] < 80) & (df_bodyPerformance['systolic'] < 120), \"bp_category\"] = \"normal\""
   ]
  },
  {
   "cell_type": "code",
   "execution_count": 22,
   "metadata": {},
   "outputs": [],
   "source": [
    "df_bodyPerformance.loc[(df_bodyPerformance['diastolic'] < 80) & (df_bodyPerformance['systolic'] >= 120) & (df_bodyPerformance['systolic'] <= 129), \"bp_category\"] = \"elevated\""
   ]
  },
  {
   "cell_type": "code",
   "execution_count": 23,
   "metadata": {},
   "outputs": [],
   "source": [
    "df_bodyPerformance.loc[(df_bodyPerformance['diastolic'] >= 80) & (df_bodyPerformance['diastolic'] <= 89) | (df_bodyPerformance['systolic'] >= 130) & (df_bodyPerformance['systolic'] <= 139), \"bp_category\"] = \"hyper_1\""
   ]
  },
  {
   "cell_type": "code",
   "execution_count": 24,
   "metadata": {},
   "outputs": [],
   "source": [
    "df_bodyPerformance.loc[(df_bodyPerformance['diastolic'] >= 90) | (df_bodyPerformance['systolic'] >= 140), \"bp_category\"] = \"hyper_2\""
   ]
  },
  {
   "cell_type": "code",
   "execution_count": 25,
   "metadata": {},
   "outputs": [],
   "source": [
    "df_bodyPerformance.loc[(df_bodyPerformance['diastolic'] >= 120) | (df_bodyPerformance['systolic'] >= 180), \"bp_category\"] = \"hypertensive\""
   ]
  },
  {
   "cell_type": "code",
   "execution_count": 26,
   "metadata": {},
   "outputs": [
    {
     "data": {
      "text/plain": [
       "hyper_2         4402\n",
       "hyper_1         3987\n",
       "normal          2898\n",
       "elevated        2090\n",
       "hypertensive      16\n",
       "Name: bp_category, dtype: int64"
      ]
     },
     "execution_count": 26,
     "metadata": {},
     "output_type": "execute_result"
    }
   ],
   "source": [
    "df_bodyPerformance[\"bp_category\"].value_counts()"
   ]
  },
  {
   "cell_type": "markdown",
   "metadata": {},
   "source": [
    "- There are 2898 people in normal blood pressure category.\n",
    "- There are 2090 people in elevated blood pressure category.\n",
    "- There are 3987 people in stage 1 hypertension category.\n",
    "- There are 4402 people in stage 2 hypertension category.\n",
    "- There are 16 people in hypertensive crisis category."
   ]
  },
  {
   "cell_type": "markdown",
   "metadata": {
    "colab_type": "text",
    "id": "2wH5ikUcbb16",
    "tags": []
   },
   "source": [
    "### <span style=\"color:magenta\">Q6: 10 pt:</span>\n",
    "Create a new variable \"age_class\" that is \"early\" if age < 40, \"middle\" if age is between 40 and 60 (inclusive) and \"late\" if age > 60.  Report the mean number of sit-ups counts for each of those categories.\n"
   ]
  },
  {
   "cell_type": "code",
   "execution_count": 27,
   "metadata": {
    "colab": {},
    "colab_type": "code",
    "id": "GneWWgFVt62N"
   },
   "outputs": [],
   "source": [
    "df_bodyPerformance.loc[df_bodyPerformance[\"age\"] < 40, \"age_class\"] = \"early\"\n",
    "df_bodyPerformance.loc[(df_bodyPerformance[\"age\"] >= 40) & (df_bodyPerformance[\"age\"] <= 60), \"age_class\"] = \"middle\"\n",
    "df_bodyPerformance.loc[df_bodyPerformance[\"age\"] > 60, \"age_class\"] = \"late\""
   ]
  },
  {
   "cell_type": "code",
   "execution_count": 28,
   "metadata": {},
   "outputs": [
    {
     "data": {
      "text/plain": [
       "early     8453\n",
       "middle    3976\n",
       "late       964\n",
       "Name: age_class, dtype: int64"
      ]
     },
     "execution_count": 28,
     "metadata": {},
     "output_type": "execute_result"
    }
   ],
   "source": [
    "df_bodyPerformance[\"age_class\"].value_counts()"
   ]
  },
  {
   "cell_type": "code",
   "execution_count": 29,
   "metadata": {},
   "outputs": [
    {
     "data": {
      "text/plain": [
       "age_class\n",
       "early     45.305217\n",
       "late      24.060166\n",
       "middle    31.815141\n",
       "Name: sit-ups counts, dtype: float64"
      ]
     },
     "execution_count": 29,
     "metadata": {},
     "output_type": "execute_result"
    }
   ],
   "source": [
    "df_bodyPerformance.groupby(\"age_class\")[\"sit-ups counts\"].mean()"
   ]
  },
  {
   "cell_type": "markdown",
   "metadata": {
    "colab_type": "text",
    "id": "WlWYu2_5uY7K"
   },
   "source": [
    "- Among all participants, 8453 people in early class, 3976 people in middle class, and 964 people in late class.\n",
    "- The mean number of sit-ups counts for early age class is about 45 counts.\n",
    "- The mean number of sit-ups counts for middle age class is about 32 counts.\n",
    "- The mean number of sit-ups counts for late age class is about 24 counts."
   ]
  },
  {
   "cell_type": "markdown",
   "metadata": {},
   "source": [
    "### <span style=\"color:magenta\">Q7: 10 pt: </span>\n",
    "Calculate each person's Body Mass Index (BMI).  With the metric system, the formula for BMI is weight in kilograms divided by height in meters squared. Since height is commonly measured in centimeters, an alternate calculation formula, dividing the weight in kilograms by the height in centimeters squared, and then multiplying the result by 10,000, can be used. (https://www.cdc.gov/nccdphp/dnpao/growthcharts/training/bmiage/page5_1.html)\n",
    "\n",
    "Create two histograms of BMI: one for gender F and one for gender M.  Describe similarites and differences of the two histograms."
   ]
  },
  {
   "cell_type": "code",
   "execution_count": 30,
   "metadata": {},
   "outputs": [],
   "source": [
    "df_bodyPerformance[\"BMI\"] = (df_bodyPerformance[\"weight_kg\"] / np.square(df_bodyPerformance[\"height_cm\"])) * 10000"
   ]
  },
  {
   "cell_type": "code",
   "execution_count": 31,
   "metadata": {},
   "outputs": [
    {
     "data": {
      "text/plain": [
       "<AxesSubplot:xlabel='BMI', ylabel='Count'>"
      ]
     },
     "execution_count": 31,
     "metadata": {},
     "output_type": "execute_result"
    },
    {
     "data": {
      "image/png": "[encoded data removed]",
      "text/plain": [
       "<Figure size 1440x360 with 1 Axes>"
      ]
     },
     "metadata": {
      "needs_background": "light"
     },
     "output_type": "display_data"
    }
   ],
   "source": [
    "figure(figsize = (20, 5))\n",
    "sns.histplot(x = \"BMI\", data = df_bodyPerformance, hue = \"gender\")"
   ]
  },
  {
   "cell_type": "code",
   "execution_count": 32,
   "metadata": {},
   "outputs": [
    {
     "data": {
      "text/plain": [
       "count    4926.000000\n",
       "mean       22.104225\n",
       "std         2.835768\n",
       "min        11.103976\n",
       "25%        20.185997\n",
       "50%        21.740786\n",
       "75%        23.600966\n",
       "max        42.906509\n",
       "Name: BMI, dtype: float64"
      ]
     },
     "execution_count": 32,
     "metadata": {},
     "output_type": "execute_result"
    }
   ],
   "source": [
    "df_bodyPerformance[df_bodyPerformance[\"gender\"] == \"F\"].BMI.describe()"
   ]
  },
  {
   "cell_type": "code",
   "execution_count": 33,
   "metadata": {},
   "outputs": [
    {
     "data": {
      "text/plain": [
       "count    8467.000000\n",
       "mean       24.479737\n",
       "std         2.632064\n",
       "min        11.314973\n",
       "25%        22.784071\n",
       "50%        24.286919\n",
       "75%        25.937514\n",
       "max        39.949756\n",
       "Name: BMI, dtype: float64"
      ]
     },
     "execution_count": 33,
     "metadata": {},
     "output_type": "execute_result"
    }
   ],
   "source": [
    "df_bodyPerformance[df_bodyPerformance[\"gender\"] == \"M\"].BMI.describe()"
   ]
  },
  {
   "cell_type": "markdown",
   "metadata": {},
   "source": [
    "Above histogram shows two histograms of BMI for female and male participants. The two histograms are similar in that they are roughly normally distributed. Male BMIs are normally distributed centered on an average BMI of 24, and female BMIs are normally distributed centered on an average BMI of 22. The male BMI distribution is a little more bell shaped, and the female BMI distribution is slightly right-skewed. This is because the number of male participants is 8,467, which is twice as many as the number of female participants, 4926. Both male and female BMIs ranges are similar. Male BMI ranges from a minimum BMI of 11 to a maximum BMI of 40, and female BMI ranges from a minimum BMI of 11 to a maximum BMI of 43."
   ]
  },
  {
   "cell_type": "markdown",
   "metadata": {
    "colab_type": "text",
    "id": "7n5ybXFQcR-g"
   },
   "source": [
    "### <span style=\"color:magenta\">Q8: 10 pt: </span>\n",
    "Compare the mean values of height, weight, body fat %, grip force, sit and bend forward, and sit-ups count for gender F vs. gender M.  You should use both quantitative and visual methods in your work.\n"
   ]
  },
  {
   "cell_type": "code",
   "execution_count": 34,
   "metadata": {
    "colab": {},
    "colab_type": "code",
    "id": "FoWTh2ekt8Wp"
   },
   "outputs": [
    {
     "data": {
      "text/html": [
       "<div>\n",
       "<style scoped>\n",
       "    .dataframe tbody tr th:only-of-type {\n",
       "        vertical-align: middle;\n",
       "    }\n",
       "\n",
       "    .dataframe tbody tr th {\n",
       "        vertical-align: top;\n",
       "    }\n",
       "\n",
       "    .dataframe thead th {\n",
       "        text-align: right;\n",
       "    }\n",
       "</style>\n",
       "<table border=\"1\" class=\"dataframe\">\n",
       "  <thead>\n",
       "    <tr style=\"text-align: right;\">\n",
       "      <th></th>\n",
       "      <th>height_cm</th>\n",
       "      <th>weight_kg</th>\n",
       "      <th>body fat_%</th>\n",
       "      <th>gripForce</th>\n",
       "      <th>sit and bend forward_cm</th>\n",
       "      <th>sit-ups counts</th>\n",
       "    </tr>\n",
       "    <tr>\n",
       "      <th>gender</th>\n",
       "      <th></th>\n",
       "      <th></th>\n",
       "      <th></th>\n",
       "      <th></th>\n",
       "      <th></th>\n",
       "      <th></th>\n",
       "    </tr>\n",
       "  </thead>\n",
       "  <tbody>\n",
       "    <tr>\n",
       "      <th>F</th>\n",
       "      <td>160.485404</td>\n",
       "      <td>56.905899</td>\n",
       "      <td>28.486085</td>\n",
       "      <td>25.817994</td>\n",
       "      <td>18.839791</td>\n",
       "      <td>30.888348</td>\n",
       "    </tr>\n",
       "    <tr>\n",
       "      <th>M</th>\n",
       "      <td>173.257399</td>\n",
       "      <td>73.580187</td>\n",
       "      <td>20.188151</td>\n",
       "      <td>43.448420</td>\n",
       "      <td>13.097073</td>\n",
       "      <td>44.939176</td>\n",
       "    </tr>\n",
       "  </tbody>\n",
       "</table>\n",
       "</div>"
      ],
      "text/plain": [
       "         height_cm  weight_kg  body fat_%  gripForce  sit and bend forward_cm  \\\n",
       "gender                                                                          \n",
       "F       160.485404  56.905899   28.486085  25.817994                18.839791   \n",
       "M       173.257399  73.580187   20.188151  43.448420                13.097073   \n",
       "\n",
       "        sit-ups counts  \n",
       "gender                  \n",
       "F            30.888348  \n",
       "M            44.939176  "
      ]
     },
     "execution_count": 34,
     "metadata": {},
     "output_type": "execute_result"
    }
   ],
   "source": [
    "df_bodyPerformance.groupby(\"gender\")[[\"height_cm\", \"weight_kg\", \"body fat_%\", \"gripForce\", \n",
    "                                      \"sit and bend forward_cm\", \"sit-ups counts\"]].mean()"
   ]
  },
  {
   "cell_type": "code",
   "execution_count": 35,
   "metadata": {},
   "outputs": [
    {
     "data": {
      "image/png": "[encoded data removed]",
      "text/plain": [
       "<Figure size 1440x720 with 6 Axes>"
      ]
     },
     "metadata": {
      "needs_background": "light"
     },
     "output_type": "display_data"
    }
   ],
   "source": [
    "column_list = [\"height_cm\", \"weight_kg\", \"body fat_%\", \"gripForce\", \"sit and bend forward_cm\", \"sit-ups counts\"]\n",
    "\n",
    "fig, axes = plt.subplots(2, 3, figsize = (20,10))\n",
    "\n",
    "for i, column in enumerate(column_list):\n",
    "    sns.boxplot(ax = axes[i//3 ,i%3], x = \"gender\", y = column, data = df_bodyPerformance)"
   ]
  },
  {
   "cell_type": "markdown",
   "metadata": {},
   "source": [
    "Of the six columns, most have a higher average for male participants. Male participants have higher mean of height(cm), weight(kg), gripforce, and sit-up counts than female participants. On the other hand, in the case of body fat(%) and sit and bend forward(cm), female participants have higher mean than male participants. The average difference between male and female participants in gripforce and weight was the largest, about 18 and 17kg, respectively. On the other hand, in sit and bend forward, the average difference between male and female participants was the smallest, about 6cm."
   ]
  },
  {
   "cell_type": "markdown",
   "metadata": {
    "colab_type": "text",
    "id": "wGoiQk8XbqHw"
   },
   "source": [
    "### <span style=\"color:magenta\">Q9: 15 pt: </span>\n",
    "Take a look at gripForce (a measure of strength), \"sit and bend forward\" (a measure of flexibility), and \"sit-ups count\" (a measures of strength and endurance of the abdominals and hip-flexor muscles).  For each of those measures, calculate their z-scores (i.e. subtract the mean of the variable from each observation, then divide by the standard deviation of that score).  Create an overall fitness score by adding the z-scores for each of those variables together, then use `pd.qcut()` (not `pd.cut()`) to assign them to five categories ranging from lowest score to highest score.  Report the number of individuals in each of the resulting categories."
   ]
  },
  {
   "cell_type": "code",
   "execution_count": 36,
   "metadata": {
    "colab": {},
    "colab_type": "code",
    "id": "FoWTh2ekt8Wp"
   },
   "outputs": [],
   "source": [
    "column_list = [\"gripForce\", \"sit and bend forward_cm\", \"sit-ups counts\"]\n",
    "\n",
    "for c in column_list:\n",
    "    df_bodyPerformance[c + \"_z\"] = (df_bodyPerformance[c] - df_bodyPerformance[c].mean()) / np.std(df_bodyPerformance[c]) "
   ]
  },
  {
   "cell_type": "code",
   "execution_count": 37,
   "metadata": {},
   "outputs": [],
   "source": [
    "df_bodyPerformance[\"fitness_z_score\"] = df_bodyPerformance[\"gripForce_z\"] + df_bodyPerformance[\"sit and bend forward_cm_z\"] + df_bodyPerformance[\"sit-ups counts_z\"]"
   ]
  },
  {
   "cell_type": "code",
   "execution_count": 38,
   "metadata": {},
   "outputs": [
    {
     "data": {
      "text/html": [
       "<div>\n",
       "<style scoped>\n",
       "    .dataframe tbody tr th:only-of-type {\n",
       "        vertical-align: middle;\n",
       "    }\n",
       "\n",
       "    .dataframe tbody tr th {\n",
       "        vertical-align: top;\n",
       "    }\n",
       "\n",
       "    .dataframe thead th {\n",
       "        text-align: right;\n",
       "    }\n",
       "</style>\n",
       "<table border=\"1\" class=\"dataframe\">\n",
       "  <thead>\n",
       "    <tr style=\"text-align: right;\">\n",
       "      <th></th>\n",
       "      <th>age</th>\n",
       "      <th>gender</th>\n",
       "      <th>height_cm</th>\n",
       "      <th>weight_kg</th>\n",
       "      <th>body fat_%</th>\n",
       "      <th>diastolic</th>\n",
       "      <th>systolic</th>\n",
       "      <th>gripForce</th>\n",
       "      <th>sit and bend forward_cm</th>\n",
       "      <th>sit-ups counts</th>\n",
       "      <th>broad jump_cm</th>\n",
       "      <th>class</th>\n",
       "      <th>bp_category</th>\n",
       "      <th>age_class</th>\n",
       "      <th>BMI</th>\n",
       "      <th>gripForce_z</th>\n",
       "      <th>sit and bend forward_cm_z</th>\n",
       "      <th>sit-ups counts_z</th>\n",
       "      <th>fitness_z_score</th>\n",
       "    </tr>\n",
       "  </thead>\n",
       "  <tbody>\n",
       "    <tr>\n",
       "      <th>0</th>\n",
       "      <td>27.0</td>\n",
       "      <td>M</td>\n",
       "      <td>172.3</td>\n",
       "      <td>75.24</td>\n",
       "      <td>21.3</td>\n",
       "      <td>80.0</td>\n",
       "      <td>130.0</td>\n",
       "      <td>54.9</td>\n",
       "      <td>18.4</td>\n",
       "      <td>60.0</td>\n",
       "      <td>217.0</td>\n",
       "      <td>C</td>\n",
       "      <td>hyper_1</td>\n",
       "      <td>early</td>\n",
       "      <td>25.344179</td>\n",
       "      <td>1.688190</td>\n",
       "      <td>0.377317</td>\n",
       "      <td>1.416961</td>\n",
       "      <td>3.482469</td>\n",
       "    </tr>\n",
       "    <tr>\n",
       "      <th>1</th>\n",
       "      <td>25.0</td>\n",
       "      <td>M</td>\n",
       "      <td>165.0</td>\n",
       "      <td>55.80</td>\n",
       "      <td>15.7</td>\n",
       "      <td>77.0</td>\n",
       "      <td>126.0</td>\n",
       "      <td>36.4</td>\n",
       "      <td>16.3</td>\n",
       "      <td>53.0</td>\n",
       "      <td>229.0</td>\n",
       "      <td>A</td>\n",
       "      <td>elevated</td>\n",
       "      <td>early</td>\n",
       "      <td>20.495868</td>\n",
       "      <td>-0.053073</td>\n",
       "      <td>0.128984</td>\n",
       "      <td>0.926634</td>\n",
       "      <td>1.002544</td>\n",
       "    </tr>\n",
       "    <tr>\n",
       "      <th>2</th>\n",
       "      <td>31.0</td>\n",
       "      <td>M</td>\n",
       "      <td>179.6</td>\n",
       "      <td>78.00</td>\n",
       "      <td>20.1</td>\n",
       "      <td>92.0</td>\n",
       "      <td>152.0</td>\n",
       "      <td>44.8</td>\n",
       "      <td>12.0</td>\n",
       "      <td>49.0</td>\n",
       "      <td>181.0</td>\n",
       "      <td>C</td>\n",
       "      <td>hyper_2</td>\n",
       "      <td>early</td>\n",
       "      <td>24.181428</td>\n",
       "      <td>0.737554</td>\n",
       "      <td>-0.379509</td>\n",
       "      <td>0.646446</td>\n",
       "      <td>1.004491</td>\n",
       "    </tr>\n",
       "    <tr>\n",
       "      <th>3</th>\n",
       "      <td>32.0</td>\n",
       "      <td>M</td>\n",
       "      <td>174.5</td>\n",
       "      <td>71.10</td>\n",
       "      <td>18.4</td>\n",
       "      <td>76.0</td>\n",
       "      <td>147.0</td>\n",
       "      <td>41.4</td>\n",
       "      <td>15.2</td>\n",
       "      <td>53.0</td>\n",
       "      <td>219.0</td>\n",
       "      <td>B</td>\n",
       "      <td>hyper_2</td>\n",
       "      <td>early</td>\n",
       "      <td>23.349562</td>\n",
       "      <td>0.417538</td>\n",
       "      <td>-0.001096</td>\n",
       "      <td>0.926634</td>\n",
       "      <td>1.343076</td>\n",
       "    </tr>\n",
       "    <tr>\n",
       "      <th>4</th>\n",
       "      <td>28.0</td>\n",
       "      <td>M</td>\n",
       "      <td>173.8</td>\n",
       "      <td>67.70</td>\n",
       "      <td>17.1</td>\n",
       "      <td>70.0</td>\n",
       "      <td>127.0</td>\n",
       "      <td>43.5</td>\n",
       "      <td>27.1</td>\n",
       "      <td>45.0</td>\n",
       "      <td>217.0</td>\n",
       "      <td>B</td>\n",
       "      <td>elevated</td>\n",
       "      <td>early</td>\n",
       "      <td>22.412439</td>\n",
       "      <td>0.615195</td>\n",
       "      <td>1.406129</td>\n",
       "      <td>0.366259</td>\n",
       "      <td>2.387583</td>\n",
       "    </tr>\n",
       "  </tbody>\n",
       "</table>\n",
       "</div>"
      ],
      "text/plain": [
       "    age gender  height_cm  weight_kg  body fat_%  diastolic  systolic  \\\n",
       "0  27.0      M      172.3      75.24        21.3       80.0     130.0   \n",
       "1  25.0      M      165.0      55.80        15.7       77.0     126.0   \n",
       "2  31.0      M      179.6      78.00        20.1       92.0     152.0   \n",
       "3  32.0      M      174.5      71.10        18.4       76.0     147.0   \n",
       "4  28.0      M      173.8      67.70        17.1       70.0     127.0   \n",
       "\n",
       "   gripForce  sit and bend forward_cm  sit-ups counts  broad jump_cm class  \\\n",
       "0       54.9                     18.4            60.0          217.0     C   \n",
       "1       36.4                     16.3            53.0          229.0     A   \n",
       "2       44.8                     12.0            49.0          181.0     C   \n",
       "3       41.4                     15.2            53.0          219.0     B   \n",
       "4       43.5                     27.1            45.0          217.0     B   \n",
       "\n",
       "  bp_category age_class        BMI  gripForce_z  sit and bend forward_cm_z  \\\n",
       "0     hyper_1     early  25.344179     1.688190                   0.377317   \n",
       "1    elevated     early  20.495868    -0.053073                   0.128984   \n",
       "2     hyper_2     early  24.181428     0.737554                  -0.379509   \n",
       "3     hyper_2     early  23.349562     0.417538                  -0.001096   \n",
       "4    elevated     early  22.412439     0.615195                   1.406129   \n",
       "\n",
       "   sit-ups counts_z  fitness_z_score  \n",
       "0          1.416961         3.482469  \n",
       "1          0.926634         1.002544  \n",
       "2          0.646446         1.004491  \n",
       "3          0.926634         1.343076  \n",
       "4          0.366259         2.387583  "
      ]
     },
     "execution_count": 38,
     "metadata": {},
     "output_type": "execute_result"
    }
   ],
   "source": [
    "df_bodyPerformance.head()"
   ]
  },
  {
   "cell_type": "code",
   "execution_count": 39,
   "metadata": {},
   "outputs": [],
   "source": [
    "df_bodyPerformance[\"fitness_z_score_category\"] = pd.qcut(df_bodyPerformance[\"fitness_z_score\"], 5, labels = [\"1\", \"2\", \"3\", \"4\", \"5\"])"
   ]
  },
  {
   "cell_type": "code",
   "execution_count": 40,
   "metadata": {},
   "outputs": [
    {
     "data": {
      "text/plain": [
       "count    1.339300e+04\n",
       "mean    -9.210565e-15\n",
       "std      2.069496e+00\n",
       "min     -8.549441e+00\n",
       "25%     -1.342875e+00\n",
       "50%      1.283733e-01\n",
       "75%      1.446425e+00\n",
       "max      2.447021e+01\n",
       "Name: fitness_z_score, dtype: float64"
      ]
     },
     "execution_count": 40,
     "metadata": {},
     "output_type": "execute_result"
    }
   ],
   "source": [
    "df_bodyPerformance[\"fitness_z_score\"].describe()"
   ]
  },
  {
   "cell_type": "code",
   "execution_count": 41,
   "metadata": {},
   "outputs": [
    {
     "data": {
      "text/html": [
       "<div>\n",
       "<style scoped>\n",
       "    .dataframe tbody tr th:only-of-type {\n",
       "        vertical-align: middle;\n",
       "    }\n",
       "\n",
       "    .dataframe tbody tr th {\n",
       "        vertical-align: top;\n",
       "    }\n",
       "\n",
       "    .dataframe thead th {\n",
       "        text-align: right;\n",
       "    }\n",
       "</style>\n",
       "<table border=\"1\" class=\"dataframe\">\n",
       "  <thead>\n",
       "    <tr style=\"text-align: right;\">\n",
       "      <th></th>\n",
       "      <th>count</th>\n",
       "      <th>mean</th>\n",
       "      <th>std</th>\n",
       "      <th>min</th>\n",
       "      <th>25%</th>\n",
       "      <th>50%</th>\n",
       "      <th>75%</th>\n",
       "      <th>max</th>\n",
       "    </tr>\n",
       "    <tr>\n",
       "      <th>fitness_z_score_category</th>\n",
       "      <th></th>\n",
       "      <th></th>\n",
       "      <th></th>\n",
       "      <th></th>\n",
       "      <th></th>\n",
       "      <th></th>\n",
       "      <th></th>\n",
       "      <th></th>\n",
       "    </tr>\n",
       "  </thead>\n",
       "  <tbody>\n",
       "    <tr>\n",
       "      <th>1</th>\n",
       "      <td>2679.0</td>\n",
       "      <td>-3.024088</td>\n",
       "      <td>1.083468</td>\n",
       "      <td>-8.549441</td>\n",
       "      <td>-3.611890</td>\n",
       "      <td>-2.716795</td>\n",
       "      <td>-2.185150</td>\n",
       "      <td>-1.737997</td>\n",
       "    </tr>\n",
       "    <tr>\n",
       "      <th>2</th>\n",
       "      <td>2678.0</td>\n",
       "      <td>-1.018661</td>\n",
       "      <td>0.383879</td>\n",
       "      <td>-1.737555</td>\n",
       "      <td>-1.342800</td>\n",
       "      <td>-0.992169</td>\n",
       "      <td>-0.686688</td>\n",
       "      <td>-0.388680</td>\n",
       "    </tr>\n",
       "    <tr>\n",
       "      <th>3</th>\n",
       "      <td>2679.0</td>\n",
       "      <td>0.130260</td>\n",
       "      <td>0.293402</td>\n",
       "      <td>-0.388338</td>\n",
       "      <td>-0.121732</td>\n",
       "      <td>0.128373</td>\n",
       "      <td>0.381064</td>\n",
       "      <td>0.641575</td>\n",
       "    </tr>\n",
       "    <tr>\n",
       "      <th>4</th>\n",
       "      <td>2678.0</td>\n",
       "      <td>1.172948</td>\n",
       "      <td>0.321520</td>\n",
       "      <td>0.641834</td>\n",
       "      <td>0.896726</td>\n",
       "      <td>1.157383</td>\n",
       "      <td>1.446399</td>\n",
       "      <td>1.772966</td>\n",
       "    </tr>\n",
       "    <tr>\n",
       "      <th>5</th>\n",
       "      <td>2679.0</td>\n",
       "      <td>2.739598</td>\n",
       "      <td>0.905236</td>\n",
       "      <td>1.773129</td>\n",
       "      <td>2.136721</td>\n",
       "      <td>2.582575</td>\n",
       "      <td>3.164675</td>\n",
       "      <td>24.470209</td>\n",
       "    </tr>\n",
       "  </tbody>\n",
       "</table>\n",
       "</div>"
      ],
      "text/plain": [
       "                           count      mean       std       min       25%  \\\n",
       "fitness_z_score_category                                                   \n",
       "1                         2679.0 -3.024088  1.083468 -8.549441 -3.611890   \n",
       "2                         2678.0 -1.018661  0.383879 -1.737555 -1.342800   \n",
       "3                         2679.0  0.130260  0.293402 -0.388338 -0.121732   \n",
       "4                         2678.0  1.172948  0.321520  0.641834  0.896726   \n",
       "5                         2679.0  2.739598  0.905236  1.773129  2.136721   \n",
       "\n",
       "                               50%       75%        max  \n",
       "fitness_z_score_category                                 \n",
       "1                        -2.716795 -2.185150  -1.737997  \n",
       "2                        -0.992169 -0.686688  -0.388680  \n",
       "3                         0.128373  0.381064   0.641575  \n",
       "4                         1.157383  1.446399   1.772966  \n",
       "5                         2.582575  3.164675  24.470209  "
      ]
     },
     "execution_count": 41,
     "metadata": {},
     "output_type": "execute_result"
    }
   ],
   "source": [
    "df_bodyPerformance.groupby(\"fitness_z_score_category\").describe().fitness_z_score"
   ]
  },
  {
   "cell_type": "markdown",
   "metadata": {},
   "source": [
    "New column fitness_z_score ranges between minimum -8.5 and maximum 24. We assign them to five categories(1 ~ 5) ranging from lowest score to highest score. \n",
    "- category 1: category 1 ranges from about -8.5 to about -1.73\n",
    "- category 2: category 2 ranges from about -1.73 to about -0.38\n",
    "- category 3: category 3 ranges from about -0.38 to about 0.64\n",
    "- category 4: category 4 ranges from about 0.64 to about 1.77\n",
    "- category 5: category 5 ranges from about 1.77 to about 24\n",
    "\n",
    "Since qcut splits all participants into 5 groups of the same size, the number of people in each group is approximately 2679 equally."
   ]
  },
  {
   "cell_type": "markdown",
   "metadata": {
    "colab_type": "text",
    "id": "zKkwrNfbJ9zN"
   },
   "source": [
    "## Please submit your completed notebook in .IPYNB and .HTML formats via Canvas"
   ]
  }
 ],
 "metadata": {
  "colab": {
   "collapsed_sections": [],
   "name": "SI 618 FA 2018 Homework 1.ipynb",
   "provenance": [],
   "version": "0.3.2"
  },
  "kernelspec": {
   "display_name": "Python 3 (ipykernel)",
   "language": "python",
   "name": "python3"
  },
  "language_info": {
   "codemirror_mode": {
    "name": "ipython",
    "version": 3
   },
   "file_extension": ".py",
   "mimetype": "text/x-python",
   "name": "python",
   "nbconvert_exporter": "python",
   "pygments_lexer": "ipython3",
   "version": "3.9.7"
  }
 },
 "nbformat": 4,
 "nbformat_minor": 4
}
